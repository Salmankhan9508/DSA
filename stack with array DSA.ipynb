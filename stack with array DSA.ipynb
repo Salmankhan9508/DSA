{
 "cells": [
  {
   "cell_type": "code",
   "execution_count": null,
   "id": "25eb5533",
   "metadata": {},
   "outputs": [],
   "source": [
    "# Stack class using a list\n",
    "class Stack:\n",
    "    def __init__(self):\n",
    "        self.stack = []  # Initialize an empty list to store stack elements\n",
    "    \n",
    "    # Push operation\n",
    "    def push(self, value):\n",
    "        self.stack.append(value)  # Append element to the end (top of stack)\n",
    "        print(f\"{value} pushed to stack\")\n",
    "    \n",
    "    # Display stack elements\n",
    "    def display(self):\n",
    "        if not self.stack:\n",
    "            print(\"Stack is empty\")\n",
    "        else:\n",
    "            print(\"Stack elements are:\", self.stack)\n",
    "\n",
    "# Driver code\n",
    "if __name__ == \"__main__\":\n",
    "    stack = Stack()\n",
    "\n",
    "    # Push elements onto the stack\n",
    "    stack.push(10)\n",
    "    stack.push(20)\n",
    "    stack.push(30)\n",
    "    stack.push(40)\n",
    "\n",
    "    # Display stack elements\n",
    "    stack.display()\n"
   ]
  }
 ],
 "metadata": {
  "kernelspec": {
   "display_name": "Python 3 (ipykernel)",
   "language": "python",
   "name": "python3"
  },
  "language_info": {
   "codemirror_mode": {
    "name": "ipython",
    "version": 3
   },
   "file_extension": ".py",
   "mimetype": "text/x-python",
   "name": "python",
   "nbconvert_exporter": "python",
   "pygments_lexer": "ipython3",
   "version": "3.11.4"
  }
 },
 "nbformat": 4,
 "nbformat_minor": 5
}
